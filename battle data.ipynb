{
 "cells": [
  {
   "cell_type": "markdown",
   "metadata": {},
   "source": [
    "<h3> Data </h3>\n",
    "\n",
    "To find the best location for our coffe house, we will use the following sources of information:\n",
    "\n",
    "\n",
    "·District of Ankara are obtained from https://en.wikipedia.org/wiki/Ankara_Province <br>\n",
    "\n",
    "·Latitude and Longitude values are obtained by using \"geocoder\".<br>\n",
    "\n",
    "·All data related to locations will be obtaine by using FourSquare API and Python Libraries."
   ]
  }
 ],
 "metadata": {
  "kernelspec": {
   "display_name": "Python 3",
   "language": "python",
   "name": "python3"
  },
  "language_info": {
   "codemirror_mode": {
    "name": "ipython",
    "version": 3
   },
   "file_extension": ".py",
   "mimetype": "text/x-python",
   "name": "python",
   "nbconvert_exporter": "python",
   "pygments_lexer": "ipython3",
   "version": "3.8.3"
  }
 },
 "nbformat": 4,
 "nbformat_minor": 4
}
